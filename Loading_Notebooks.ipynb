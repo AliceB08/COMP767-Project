{
  "nbformat": 4,
  "nbformat_minor": 0,
  "metadata": {
    "colab": {
      "name": "Loading_Notebooks.ipynb",
      "provenance": [],
      "collapsed_sections": [
        "GZKatcpXlwyq",
        "oZF_vEsAl68Q"
      ]
    },
    "kernelspec": {
      "name": "python3",
      "display_name": "Python 3"
    }
  },
  "cells": [
    {
      "cell_type": "code",
      "metadata": {
        "id": "noTrivYwghsn",
        "colab_type": "code",
        "colab": {
          "base_uri": "https://localhost:8080/",
          "height": 54
        },
        "outputId": "b37445b3-bcdf-4c81-e235-a66f81d09a0e"
      },
      "source": [
        "from google.colab import drive\n",
        "\n",
        "drive.mount('/content/drive')"
      ],
      "execution_count": 3,
      "outputs": [
        {
          "output_type": "stream",
          "text": [
            "Drive already mounted at /content/drive; to attempt to forcibly remount, call drive.mount(\"/content/drive\", force_remount=True).\n"
          ],
          "name": "stdout"
        }
      ]
    },
    {
      "cell_type": "code",
      "metadata": {
        "id": "wVZyBYadgakQ",
        "colab_type": "code",
        "colab": {}
      },
      "source": [
        "import io, os, sys, types\n",
        "from IPython import get_ipython\n",
        "from nbformat import read\n",
        "from IPython.core.interactiveshell import InteractiveShell"
      ],
      "execution_count": 0,
      "outputs": []
    },
    {
      "cell_type": "markdown",
      "metadata": {
        "id": "GZKatcpXlwyq",
        "colab_type": "text"
      },
      "source": [
        "##NoteBook Loader Class\n"
      ]
    },
    {
      "cell_type": "code",
      "metadata": {
        "id": "Zz7jdCL_ls_z",
        "colab_type": "code",
        "colab": {}
      },
      "source": [
        "def find_notebook(fullname, path=None):\n",
        "    \"\"\"find a notebook, given its fully qualified name and an optional path\n",
        "\n",
        "    This turns \"foo.bar\" into \"foo/bar.ipynb\"\n",
        "    and tries turning \"Foo_Bar\" into \"Foo Bar\" if Foo_Bar\n",
        "    does not exist.\n",
        "    \"\"\"\n",
        "    name = fullname.rsplit('.', 1)[-1]\n",
        "    if not path:\n",
        "        path = ['']\n",
        "    for d in path:\n",
        "        nb_path = os.path.join(d, name + \".ipynb\")\n",
        "        if os.path.isfile(nb_path):\n",
        "            return nb_path\n",
        "        # let import Notebook_Name find \"Notebook Name.ipynb\"\n",
        "        nb_path = nb_path.replace(\"_\", \" \")\n",
        "        if os.path.isfile(nb_path):\n",
        "            return nb_path\n",
        "\n",
        "class NotebookLoader():\n",
        "    \"\"\"Module Loader for Jupyter Notebooks\"\"\"\n",
        "    def __init__(self, path):\n",
        "        self.shell = InteractiveShell.instance()\n",
        "        self.path = path\n",
        "\n",
        "    def load_module(self, fullname):\n",
        "        \"\"\"import a notebook as a module\"\"\"\n",
        "        path = find_notebook(fullname, self.path)\n",
        "\n",
        "        print (\"importing Jupyter notebook from %s\" % path)\n",
        "\n",
        "        # load the notebook object\n",
        "        with io.open(path, 'r', encoding='utf-8') as f:\n",
        "            nb = read(f, 4)\n",
        "\n",
        "\n",
        "        # create the module and add it to sys.modules\n",
        "        # if name in sys.modules:\n",
        "        #    return sys.modules[name]\n",
        "        mod = types.ModuleType(fullname)\n",
        "        mod.__file__ = path\n",
        "        mod.__loader__ = self\n",
        "        mod.__dict__['get_ipython'] = get_ipython\n",
        "        sys.modules[fullname] = mod\n",
        "\n",
        "        # extra work to ensure that magics that would affect the user_ns\n",
        "        # actually affect the notebook module's ns\n",
        "        save_user_ns = self.shell.user_ns\n",
        "        self.shell.user_ns = mod.__dict__\n",
        "\n",
        "        try:\n",
        "          for cell in nb.cells:\n",
        "            if cell.cell_type == 'code':\n",
        "                # transform the input to executable Python\n",
        "                code = self.shell.input_transformer_manager.transform_cell(cell.source)\n",
        "                # run the code in themodule\n",
        "                exec(code, mod.__dict__)\n",
        "        finally:\n",
        "            self.shell.user_ns = save_user_ns\n",
        "        return mod"
      ],
      "execution_count": 0,
      "outputs": []
    },
    {
      "cell_type": "markdown",
      "metadata": {
        "id": "oZF_vEsAl68Q",
        "colab_type": "text"
      },
      "source": [
        "##Main For Loading Notebooks"
      ]
    },
    {
      "cell_type": "code",
      "metadata": {
        "id": "HoQOX3M9gjWl",
        "colab_type": "code",
        "colab": {}
      },
      "source": [
        "def load_main(path, filename):\n",
        "  #Change pwd to directory which holds the notebook\n",
        "  %cd $path \n",
        "  #example of input: '/content/drive/My Drive/COMP767/Project/Test/'\n",
        "\n",
        "  !pwd \n",
        "\n",
        "  #Check that notebook exists in that directory \n",
        "  path = find_notebook(filename) #Give the name of the file before .ipynb --> example: 'Test3' (if you want a file called Test3.ipynb)\n",
        "  if not path: print('FILE DOES NOT EXIST, TRY AGAIN')\n",
        "\n",
        "  #This creates an instance of the Notebook Loader class \n",
        "  loader = NotebookLoader(sys.path) \n",
        "  if not loader: print('ERROR WITH CREATING LOADER')\n",
        "\n",
        "  #Load Module \n",
        "  mod = loader.load_module(filename) \n",
        "  print('file available: ', mod)  \n",
        "\n",
        "\n"
      ],
      "execution_count": 0,
      "outputs": []
    },
    {
      "cell_type": "code",
      "metadata": {
        "id": "BsiHTX6rh4yG",
        "colab_type": "code",
        "colab": {
          "base_uri": "https://localhost:8080/",
          "height": 119
        },
        "outputId": "d75c04e2-6b8a-463b-83a3-b7daa578e900"
      },
      "source": [
        "file_to_load = 'Test3' #Notebook name before .ipynb\n",
        "file_location = '/content/drive/My Drive/COMP767/Project/Test/' #Test is parent directory of notebook\n",
        "#Navigate to root directory \n",
        "%cd /content/\n",
        "#Load notebook \n",
        "load_main(file_location, file_to_load)\n",
        "\n",
        "#Import notebook \n",
        "from Test3 import * \n",
        "\n",
        "#Run function from notebook \n",
        "testing_notebook_loader() \n"
      ],
      "execution_count": 30,
      "outputs": [
        {
          "output_type": "stream",
          "text": [
            "/content\n",
            "/content/drive/My Drive/COMP767/Project/Test\n",
            "/content/drive/My Drive/COMP767/Project/Test\n",
            "importing Jupyter notebook from Test3.ipynb\n",
            "file available:  <module 'Test3' from 'Test3.ipynb'>\n"
          ],
          "name": "stdout"
        },
        {
          "output_type": "execute_result",
          "data": {
            "text/plain": [
              "'Hello, this is a message from Test3. You have successfully loaded the notebook!'"
            ]
          },
          "metadata": {
            "tags": []
          },
          "execution_count": 30
        }
      ]
    }
  ]
}